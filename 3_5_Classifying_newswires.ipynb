{
  "nbformat": 4,
  "nbformat_minor": 0,
  "metadata": {
    "colab": {
      "name": "3.5 Classifying newswires.ipynb",
      "provenance": [],
      "authorship_tag": "ABX9TyNiPUnlw1Pa4Bi/EScmkp+t",
      "include_colab_link": true
    },
    "kernelspec": {
      "name": "python3",
      "display_name": "Python 3"
    },
    "language_info": {
      "name": "python"
    }
  },
  "cells": [
    {
      "cell_type": "markdown",
      "metadata": {
        "id": "view-in-github",
        "colab_type": "text"
      },
      "source": [
        "<a href=\"https://colab.research.google.com/github/venkat2020-github/DeepLearning/blob/main/3_5_Classifying_newswires.ipynb\" target=\"_parent\"><img src=\"https://colab.research.google.com/assets/colab-badge.svg\" alt=\"Open In Colab\"/></a>"
      ]
    },
    {
      "cell_type": "markdown",
      "source": [
        "3.5.1 The Reuters dataset"
      ],
      "metadata": {
        "id": "PBCSiPy80wXW"
      }
    },
    {
      "cell_type": "code",
      "source": [
        "#Listing 3.12 Loading the Reuters dataset\n",
        "from keras import models\n",
        "from keras import layers\n",
        "from keras.datasets import reuters"
      ],
      "metadata": {
        "id": "vbRTb-FP01Fa"
      },
      "execution_count": 4,
      "outputs": []
    },
    {
      "cell_type": "code",
      "source": [
        "(train_data, train_labels), (test_data, test_labels) = reuters.load_data(num_words=10000)"
      ],
      "metadata": {
        "colab": {
          "base_uri": "https://localhost:8080/"
        },
        "id": "8Y78oCz71HAT",
        "outputId": "c31a1ce2-56fd-4632-8522-9aaaf96b6153"
      },
      "execution_count": 5,
      "outputs": [
        {
          "output_type": "stream",
          "name": "stdout",
          "text": [
            "Downloading data from https://storage.googleapis.com/tensorflow/tf-keras-datasets/reuters.npz\n",
            "2113536/2110848 [==============================] - 0s 0us/step\n",
            "2121728/2110848 [==============================] - 0s 0us/step\n"
          ]
        }
      ]
    },
    {
      "cell_type": "code",
      "source": [
        "len(train_data)"
      ],
      "metadata": {
        "colab": {
          "base_uri": "https://localhost:8080/"
        },
        "id": "sUXCvOoX1WPl",
        "outputId": "c3847319-2fba-4d9a-fa88-c8f22e0386bf"
      },
      "execution_count": 6,
      "outputs": [
        {
          "output_type": "execute_result",
          "data": {
            "text/plain": [
              "8982"
            ]
          },
          "metadata": {},
          "execution_count": 6
        }
      ]
    },
    {
      "cell_type": "code",
      "source": [
        "len(test_data)"
      ],
      "metadata": {
        "colab": {
          "base_uri": "https://localhost:8080/"
        },
        "id": "Tmq2L6Gw17WR",
        "outputId": "8df3454a-59f8-43e7-9aab-b4ab0605ff62"
      },
      "execution_count": 7,
      "outputs": [
        {
          "output_type": "execute_result",
          "data": {
            "text/plain": [
              "2246"
            ]
          },
          "metadata": {},
          "execution_count": 7
        }
      ]
    },
    {
      "cell_type": "code",
      "source": [
        "train_data[10]"
      ],
      "metadata": {
        "colab": {
          "base_uri": "https://localhost:8080/"
        },
        "id": "6f8SzhxB1835",
        "outputId": "a1dff4f4-21ff-4867-a74f-79ebc98ea622"
      },
      "execution_count": 8,
      "outputs": [
        {
          "output_type": "execute_result",
          "data": {
            "text/plain": [
              "[1,\n",
              " 245,\n",
              " 273,\n",
              " 207,\n",
              " 156,\n",
              " 53,\n",
              " 74,\n",
              " 160,\n",
              " 26,\n",
              " 14,\n",
              " 46,\n",
              " 296,\n",
              " 26,\n",
              " 39,\n",
              " 74,\n",
              " 2979,\n",
              " 3554,\n",
              " 14,\n",
              " 46,\n",
              " 4689,\n",
              " 4329,\n",
              " 86,\n",
              " 61,\n",
              " 3499,\n",
              " 4795,\n",
              " 14,\n",
              " 61,\n",
              " 451,\n",
              " 4329,\n",
              " 17,\n",
              " 12]"
            ]
          },
          "metadata": {},
          "execution_count": 8
        }
      ]
    },
    {
      "cell_type": "code",
      "source": [
        "train_labels[10]"
      ],
      "metadata": {
        "colab": {
          "base_uri": "https://localhost:8080/"
        },
        "id": "gbD1ojQ81_x4",
        "outputId": "42b2f2a7-c72e-413c-b072-688e1d4a2b3b"
      },
      "execution_count": 9,
      "outputs": [
        {
          "output_type": "execute_result",
          "data": {
            "text/plain": [
              "3"
            ]
          },
          "metadata": {},
          "execution_count": 9
        }
      ]
    },
    {
      "cell_type": "code",
      "source": [
        "#Encoding the data\n",
        "import numpy as np\n",
        "\n",
        "def vectorize_sequences(sequences, dimension=10000):\n",
        "  results = np.zeros((len(sequences), dimension))\n",
        "  for i, sequence in enumerate(sequences):\n",
        "    results[i, sequence] = 1\n",
        "  return results"
      ],
      "metadata": {
        "id": "UaEuwKh32Erh"
      },
      "execution_count": 14,
      "outputs": []
    },
    {
      "cell_type": "code",
      "source": [
        "x_train = vectorize_sequences(train_data) #Vectorized training data\n",
        "x_test = vectorize_sequences(test_data) #Vectorized test data"
      ],
      "metadata": {
        "id": "5xZ0XXlz2hkc"
      },
      "execution_count": 16,
      "outputs": []
    },
    {
      "cell_type": "code",
      "source": [
        "def to_one_hot(labels, dimension=46):\n",
        "  results = np.zeros((len(labels), dimension))\n",
        "  for i, label in enumerate(labels):\n",
        "    results[i, label] = 1\n",
        "  return results"
      ],
      "metadata": {
        "id": "YZ8dFZJl21CW"
      },
      "execution_count": 19,
      "outputs": []
    },
    {
      "cell_type": "code",
      "source": [
        "one_hot_train_labels = to_one_hot(train_labels) #Vectorized training labels\n",
        "one_hot_test_labels = to_one_hot(test_labels) #Vectorized test labels"
      ],
      "metadata": {
        "id": "mgDT_1xG3fUt"
      },
      "execution_count": 20,
      "outputs": []
    },
    {
      "cell_type": "code",
      "source": [
        "from keras.utils.np_utils import to_categorical\n",
        "\n",
        "one_hot_train_labels = to_categorical(train_labels)\n",
        "one_hot_teste_labels = to_categorical(test_labels)"
      ],
      "metadata": {
        "id": "o9vEVlN43rSg"
      },
      "execution_count": 22,
      "outputs": []
    },
    {
      "cell_type": "code",
      "source": [
        "#Model definition\n",
        "model = models.Sequential()\n",
        "model.add(layers.Dense(64, activation='relu', input_shape=(10000,)))\n",
        "model.add(layers.Dense(64, activation='relu'))\n",
        "model.add(layers.Dense(46, activation='softmax'))"
      ],
      "metadata": {
        "id": "l56J13JI4A9D"
      },
      "execution_count": 23,
      "outputs": []
    },
    {
      "cell_type": "code",
      "source": [
        "#Compiling the model\n",
        "model.compile(optimizer='rmsprop', loss='categorical_crossentropy', metrics=['accuracy'])"
      ],
      "metadata": {
        "id": "PYV__lLy4fNe"
      },
      "execution_count": 24,
      "outputs": []
    },
    {
      "cell_type": "code",
      "source": [
        "#Validating your approach\n",
        "x_val = x_train[:1000]\n",
        "partial_x_train=x_train[1000:]\n",
        "\n",
        "y_val = one_hot_train_labels[:1000]\n",
        "partial_y_train = one_hot_train_labels[1000:]"
      ],
      "metadata": {
        "id": "5AO8AWHR5ALf"
      },
      "execution_count": 25,
      "outputs": []
    },
    {
      "cell_type": "code",
      "source": [
        "#Training the model\n",
        "history = model.fit(partial_x_train, partial_y_train, epochs=20,batch_size=512, validation_data=(x_val, y_val))"
      ],
      "metadata": {
        "colab": {
          "base_uri": "https://localhost:8080/"
        },
        "id": "vF-UFxou5Tqo",
        "outputId": "84cd2b75-9aa0-4844-cc59-0d51ea9087ab"
      },
      "execution_count": 26,
      "outputs": [
        {
          "output_type": "stream",
          "name": "stdout",
          "text": [
            "Epoch 1/20\n",
            "16/16 [==============================] - 2s 66ms/step - loss: 2.6773 - accuracy: 0.5123 - val_loss: 1.7582 - val_accuracy: 0.6570\n",
            "Epoch 2/20\n",
            "16/16 [==============================] - 1s 53ms/step - loss: 1.4409 - accuracy: 0.7081 - val_loss: 1.2913 - val_accuracy: 0.7140\n",
            "Epoch 3/20\n",
            "16/16 [==============================] - 1s 52ms/step - loss: 1.0583 - accuracy: 0.7765 - val_loss: 1.1133 - val_accuracy: 0.7640\n",
            "Epoch 4/20\n",
            "16/16 [==============================] - 1s 53ms/step - loss: 0.8211 - accuracy: 0.8314 - val_loss: 1.0233 - val_accuracy: 0.7890\n",
            "Epoch 5/20\n",
            "16/16 [==============================] - 1s 52ms/step - loss: 0.6476 - accuracy: 0.8664 - val_loss: 0.9394 - val_accuracy: 0.8100\n",
            "Epoch 6/20\n",
            "16/16 [==============================] - 1s 53ms/step - loss: 0.5176 - accuracy: 0.8936 - val_loss: 0.9099 - val_accuracy: 0.8130\n",
            "Epoch 7/20\n",
            "16/16 [==============================] - 1s 54ms/step - loss: 0.4166 - accuracy: 0.9134 - val_loss: 0.8727 - val_accuracy: 0.8180\n",
            "Epoch 8/20\n",
            "16/16 [==============================] - 1s 52ms/step - loss: 0.3396 - accuracy: 0.9276 - val_loss: 0.8843 - val_accuracy: 0.8150\n",
            "Epoch 9/20\n",
            "16/16 [==============================] - 1s 52ms/step - loss: 0.2782 - accuracy: 0.9377 - val_loss: 0.8704 - val_accuracy: 0.8160\n",
            "Epoch 10/20\n",
            "16/16 [==============================] - 1s 52ms/step - loss: 0.2367 - accuracy: 0.9463 - val_loss: 0.9194 - val_accuracy: 0.8010\n",
            "Epoch 11/20\n",
            "16/16 [==============================] - 1s 53ms/step - loss: 0.2070 - accuracy: 0.9479 - val_loss: 0.9000 - val_accuracy: 0.8180\n",
            "Epoch 12/20\n",
            "16/16 [==============================] - 1s 52ms/step - loss: 0.1854 - accuracy: 0.9505 - val_loss: 0.9480 - val_accuracy: 0.8030\n",
            "Epoch 13/20\n",
            "16/16 [==============================] - 1s 52ms/step - loss: 0.1651 - accuracy: 0.9529 - val_loss: 0.9250 - val_accuracy: 0.8120\n",
            "Epoch 14/20\n",
            "16/16 [==============================] - 1s 53ms/step - loss: 0.1488 - accuracy: 0.9549 - val_loss: 0.9444 - val_accuracy: 0.8170\n",
            "Epoch 15/20\n",
            "16/16 [==============================] - 1s 54ms/step - loss: 0.1433 - accuracy: 0.9560 - val_loss: 0.9661 - val_accuracy: 0.8130\n",
            "Epoch 16/20\n",
            "16/16 [==============================] - 1s 52ms/step - loss: 0.1321 - accuracy: 0.9560 - val_loss: 1.0311 - val_accuracy: 0.8020\n",
            "Epoch 17/20\n",
            "16/16 [==============================] - 1s 52ms/step - loss: 0.1259 - accuracy: 0.9575 - val_loss: 1.0038 - val_accuracy: 0.8120\n",
            "Epoch 18/20\n",
            "16/16 [==============================] - 1s 53ms/step - loss: 0.1201 - accuracy: 0.9577 - val_loss: 1.0474 - val_accuracy: 0.7920\n",
            "Epoch 19/20\n",
            "16/16 [==============================] - 1s 52ms/step - loss: 0.1181 - accuracy: 0.9568 - val_loss: 1.0517 - val_accuracy: 0.8030\n",
            "Epoch 20/20\n",
            "16/16 [==============================] - 1s 53ms/step - loss: 0.1150 - accuracy: 0.9590 - val_loss: 1.0430 - val_accuracy: 0.8050\n"
          ]
        }
      ]
    },
    {
      "cell_type": "code",
      "source": [
        "#Plotting the training and validation loss\n",
        "import matplotlib.pyplot as plt\n",
        "\n",
        "loss = history.history['loss']\n",
        "val_loss = history.history['val_loss']\n",
        "\n",
        "epochs = range(1, len(loss) +1)\n",
        "\n",
        "plt.plot(epochs, loss, 'bo', label = 'Training loss')\n",
        "plt.plot(epochs, val_loss, 'b', label='Validation loss')\n",
        "plt.title('Training and validation loss')\n",
        "plt.xlabel('Epochs')\n",
        "plt.ylabel('Loss')\n",
        "plt.legend()\n",
        "\n",
        "plt.show()"
      ],
      "metadata": {
        "colab": {
          "base_uri": "https://localhost:8080/",
          "height": 295
        },
        "id": "oYPhlbkB5gDA",
        "outputId": "632b78e4-1b4b-4e36-b1e0-10f51c5b6d31"
      },
      "execution_count": 32,
      "outputs": [
        {
          "output_type": "display_data",
          "data": {
            "text/plain": [
              "<Figure size 432x288 with 1 Axes>"
            ],
            "image/png": "[encoded data removed]"
          },
          "metadata": {
            "needs_background": "light"
          }
        }
      ]
    },
    {
      "cell_type": "code",
      "source": [
        "#Plotting the training and validation accuracy\n",
        "plt.clf() #Clears the figure\n",
        "\n",
        "acc = history.history['accuracy']\n",
        "val_acc = history.history['val_accuracy']\n",
        "\n",
        "plt.plot(epochs, acc, 'bo', label='Training acc')\n",
        "plt.plot(epochs, val_acc, 'b', label='validation acc')\n",
        "plt.title('Training and validation accuracy')\n",
        "plt.xlabel('Epochs')\n",
        "plt.ylabel('Loss')\n",
        "plt.legend()\n",
        "\n",
        "plt.show()"
      ],
      "metadata": {
        "colab": {
          "base_uri": "https://localhost:8080/",
          "height": 295
        },
        "id": "n9Q2Xxtl6MXg",
        "outputId": "77e4ff37-9090-4db1-9f32-bd29b4e436d3"
      },
      "execution_count": 35,
      "outputs": [
        {
          "output_type": "display_data",
          "data": {
            "text/plain": [
              "<Figure size 432x288 with 1 Axes>"
            ],
            "image/png": "[encoded data removed]"
          },
          "metadata": {
            "needs_background": "light"
          }
        }
      ]
    },
    {
      "cell_type": "code",
      "source": [
        "#Retraining a model from scratch\n",
        "model = models.Sequential()\n",
        "model.add(layers.Dense(64, activation='relu', input_shape=(10000,)))\n",
        "model.add(layers.Dense(64, activation='relu'))\n",
        "model.add(layers.Dense(46, activation='softmax'))\n",
        "\n",
        "model.compile(optimizer='rmsprop',\n",
        "              loss='categorical_crossentropy',\n",
        "              metrics=['accuracy'])\n",
        "\n",
        "model.fit(partial_x_train,\n",
        "          partial_y_train,\n",
        "          epochs=9,\n",
        "          batch_size=512,\n",
        "          validation_data=(x_val, y_val))\n",
        "results = model.evaluate(x_test, one_hot_test_labels)"
      ],
      "metadata": {
        "colab": {
          "base_uri": "https://localhost:8080/"
        },
        "id": "ZWiAxcXD6-9n",
        "outputId": "d4e7bcd4-1e0f-4088-c5fe-291ed32ce2ff"
      },
      "execution_count": 36,
      "outputs": [
        {
          "output_type": "stream",
          "name": "stdout",
          "text": [
            "Epoch 1/9\n",
            "16/16 [==============================] - 2s 63ms/step - loss: 2.5849 - accuracy: 0.5281 - val_loss: 1.6518 - val_accuracy: 0.6530\n",
            "Epoch 2/9\n",
            "16/16 [==============================] - 1s 51ms/step - loss: 1.3860 - accuracy: 0.7156 - val_loss: 1.2787 - val_accuracy: 0.7220\n",
            "Epoch 3/9\n",
            "16/16 [==============================] - 1s 52ms/step - loss: 1.0491 - accuracy: 0.7769 - val_loss: 1.1195 - val_accuracy: 0.7610\n",
            "Epoch 4/9\n",
            "16/16 [==============================] - 1s 50ms/step - loss: 0.8245 - accuracy: 0.8259 - val_loss: 1.0328 - val_accuracy: 0.7760\n",
            "Epoch 5/9\n",
            "16/16 [==============================] - 1s 52ms/step - loss: 0.6606 - accuracy: 0.8622 - val_loss: 0.9704 - val_accuracy: 0.8060\n",
            "Epoch 6/9\n",
            "16/16 [==============================] - 1s 50ms/step - loss: 0.5325 - accuracy: 0.8871 - val_loss: 0.9301 - val_accuracy: 0.8080\n",
            "Epoch 7/9\n",
            "16/16 [==============================] - 1s 50ms/step - loss: 0.4297 - accuracy: 0.9070 - val_loss: 0.8840 - val_accuracy: 0.8190\n",
            "Epoch 8/9\n",
            "16/16 [==============================] - 1s 50ms/step - loss: 0.3475 - accuracy: 0.9265 - val_loss: 0.9093 - val_accuracy: 0.8120\n",
            "Epoch 9/9\n",
            "16/16 [==============================] - 1s 51ms/step - loss: 0.2951 - accuracy: 0.9355 - val_loss: 0.8879 - val_accuracy: 0.8150\n",
            "71/71 [==============================] - 0s 3ms/step - loss: 0.9817 - accuracy: 0.7890\n"
          ]
        }
      ]
    },
    {
      "cell_type": "code",
      "source": [
        "results"
      ],
      "metadata": {
        "colab": {
          "base_uri": "https://localhost:8080/"
        },
        "id": "9ReSFHsH9FW8",
        "outputId": "fb448eb8-233d-4707-9daa-ecee5ed8db8a"
      },
      "execution_count": 37,
      "outputs": [
        {
          "output_type": "execute_result",
          "data": {
            "text/plain": [
              "[0.9817447662353516, 0.7889581322669983]"
            ]
          },
          "metadata": {},
          "execution_count": 37
        }
      ]
    },
    {
      "cell_type": "code",
      "source": [
        "import copy\n",
        "test_labels_copy = copy.copy(test_labels)\n",
        "np.random.shuffle(test_labels_copy)\n",
        "hits_array = np.array(test_labels) == np.array(test_labels_copy)\n",
        "float(np.sum(hits_array)) / len(test_labels)"
      ],
      "metadata": {
        "colab": {
          "base_uri": "https://localhost:8080/"
        },
        "id": "-DZ9yq2A9IpH",
        "outputId": "63508a31-1fc9-485b-c86f-2424886997d4"
      },
      "execution_count": 40,
      "outputs": [
        {
          "output_type": "execute_result",
          "data": {
            "text/plain": [
              "0.20302760463045413"
            ]
          },
          "metadata": {},
          "execution_count": 40
        }
      ]
    },
    {
      "cell_type": "code",
      "source": [
        "#Generating prediction for new data\n",
        "predictions = model.predict(x_test)\n",
        "predictions.shape"
      ],
      "metadata": {
        "colab": {
          "base_uri": "https://localhost:8080/"
        },
        "id": "mZ5GIlgf9m7Y",
        "outputId": "52300fbc-5114-482e-df74-32fda92575df"
      },
      "execution_count": 41,
      "outputs": [
        {
          "output_type": "execute_result",
          "data": {
            "text/plain": [
              "(2246, 46)"
            ]
          },
          "metadata": {},
          "execution_count": 41
        }
      ]
    },
    {
      "cell_type": "code",
      "source": [
        "np.sum(predictions[0])"
      ],
      "metadata": {
        "colab": {
          "base_uri": "https://localhost:8080/"
        },
        "id": "542dwiK895r6",
        "outputId": "80c1e6c8-9f40-4cc1-d2ff-2abc6cbeddba"
      },
      "execution_count": 42,
      "outputs": [
        {
          "output_type": "execute_result",
          "data": {
            "text/plain": [
              "1.0"
            ]
          },
          "metadata": {},
          "execution_count": 42
        }
      ]
    },
    {
      "cell_type": "code",
      "source": [
        "np.argmax(predictions[0])"
      ],
      "metadata": {
        "colab": {
          "base_uri": "https://localhost:8080/"
        },
        "id": "Snhi7TF599U-",
        "outputId": "5d0b02b9-238d-4bd3-bc76-4fb856e791cc"
      },
      "execution_count": 43,
      "outputs": [
        {
          "output_type": "execute_result",
          "data": {
            "text/plain": [
              "3"
            ]
          },
          "metadata": {},
          "execution_count": 43
        }
      ]
    },
    {
      "cell_type": "code",
      "source": [
        "y_train=np.array(train_labels)\n",
        "y_test=np.array(test_labels)"
      ],
      "metadata": {
        "id": "coBL7C0J-AId"
      },
      "execution_count": 44,
      "outputs": []
    },
    {
      "cell_type": "code",
      "source": [
        "model.compile(optimizer='rmsprop',\n",
        "              loss='sparse_categorical_crossentropy',\n",
        "              metrics=['acc'])"
      ],
      "metadata": {
        "id": "hNR2EqnM-Isr"
      },
      "execution_count": 45,
      "outputs": []
    },
    {
      "cell_type": "code",
      "source": [
        "# Model with an information bottleneck\n",
        "model = models.Sequential()\n",
        "model.add(layers.Dense(64, activation='relu', input_shape=(10000,)))\n",
        "model.add(layers.Dense(64, activation='relu'))\n",
        "model.add(layers.Dense(46, activation='softmax'))\n",
        "\n",
        "model.compile(optimizer='rmsprop',\n",
        "              loss='categorical_crossentropy',\n",
        "              metrics=['accuracy'])\n",
        "model.fit(partial_x_train,\n",
        "          partial_y_train,\n",
        "          epochs=20,\n",
        "          batch_size=128,\n",
        "          validation_data=(x_val, y_val))"
      ],
      "metadata": {
        "colab": {
          "base_uri": "https://localhost:8080/"
        },
        "id": "J5jFa5ab-UQT",
        "outputId": "e3bdb8a9-e056-4615-bb30-7a06981b4a1e"
      },
      "execution_count": 47,
      "outputs": [
        {
          "output_type": "stream",
          "name": "stdout",
          "text": [
            "Epoch 1/20\n",
            "63/63 [==============================] - 2s 22ms/step - loss: 1.8812 - accuracy: 0.6233 - val_loss: 1.2736 - val_accuracy: 0.7090\n",
            "Epoch 2/20\n",
            "63/63 [==============================] - 1s 19ms/step - loss: 0.9833 - accuracy: 0.7824 - val_loss: 1.0016 - val_accuracy: 0.7890\n",
            "Epoch 3/20\n",
            "63/63 [==============================] - 1s 19ms/step - loss: 0.6552 - accuracy: 0.8607 - val_loss: 0.9441 - val_accuracy: 0.7920\n",
            "Epoch 4/20\n",
            "63/63 [==============================] - 1s 19ms/step - loss: 0.4555 - accuracy: 0.9029 - val_loss: 0.8895 - val_accuracy: 0.8040\n",
            "Epoch 5/20\n",
            "63/63 [==============================] - 1s 19ms/step - loss: 0.3276 - accuracy: 0.9283 - val_loss: 0.8714 - val_accuracy: 0.8200\n",
            "Epoch 6/20\n",
            "63/63 [==============================] - 1s 19ms/step - loss: 0.2549 - accuracy: 0.9424 - val_loss: 0.8844 - val_accuracy: 0.8180\n",
            "Epoch 7/20\n",
            "63/63 [==============================] - 1s 19ms/step - loss: 0.2086 - accuracy: 0.9486 - val_loss: 0.9599 - val_accuracy: 0.8050\n",
            "Epoch 8/20\n",
            "63/63 [==============================] - 1s 19ms/step - loss: 0.1778 - accuracy: 0.9530 - val_loss: 1.0297 - val_accuracy: 0.8020\n",
            "Epoch 9/20\n",
            "63/63 [==============================] - 1s 19ms/step - loss: 0.1636 - accuracy: 0.9546 - val_loss: 0.9956 - val_accuracy: 0.8190\n",
            "Epoch 10/20\n",
            "63/63 [==============================] - 1s 19ms/step - loss: 0.1478 - accuracy: 0.9543 - val_loss: 1.0544 - val_accuracy: 0.8060\n",
            "Epoch 11/20\n",
            "63/63 [==============================] - 1s 19ms/step - loss: 0.1383 - accuracy: 0.9553 - val_loss: 1.1185 - val_accuracy: 0.8020\n",
            "Epoch 12/20\n",
            "63/63 [==============================] - 1s 20ms/step - loss: 0.1363 - accuracy: 0.9538 - val_loss: 1.1144 - val_accuracy: 0.8050\n",
            "Epoch 13/20\n",
            "63/63 [==============================] - 1s 19ms/step - loss: 0.1273 - accuracy: 0.9564 - val_loss: 1.1482 - val_accuracy: 0.7950\n",
            "Epoch 14/20\n",
            "63/63 [==============================] - 1s 19ms/step - loss: 0.1257 - accuracy: 0.9555 - val_loss: 1.1645 - val_accuracy: 0.7940\n",
            "Epoch 15/20\n",
            "63/63 [==============================] - 1s 19ms/step - loss: 0.1189 - accuracy: 0.9559 - val_loss: 1.1002 - val_accuracy: 0.8090\n",
            "Epoch 16/20\n",
            "63/63 [==============================] - 1s 19ms/step - loss: 0.1194 - accuracy: 0.9565 - val_loss: 1.1606 - val_accuracy: 0.8010\n",
            "Epoch 17/20\n",
            "63/63 [==============================] - 1s 20ms/step - loss: 0.1136 - accuracy: 0.9565 - val_loss: 1.2479 - val_accuracy: 0.7870\n",
            "Epoch 18/20\n",
            "63/63 [==============================] - 1s 19ms/step - loss: 0.1107 - accuracy: 0.9574 - val_loss: 1.2350 - val_accuracy: 0.7940\n",
            "Epoch 19/20\n",
            "63/63 [==============================] - 1s 19ms/step - loss: 0.1079 - accuracy: 0.9569 - val_loss: 1.3090 - val_accuracy: 0.7870\n",
            "Epoch 20/20\n",
            "63/63 [==============================] - 1s 20ms/step - loss: 0.1053 - accuracy: 0.9567 - val_loss: 1.1932 - val_accuracy: 0.8010\n"
          ]
        },
        {
          "output_type": "execute_result",
          "data": {
            "text/plain": [
              "<keras.callbacks.History at 0x7effb1796b10>"
            ]
          },
          "metadata": {},
          "execution_count": 47
        }
      ]
    },
    {
      "cell_type": "code",
      "source": [
        ""
      ],
      "metadata": {
        "id": "57DTtKbO_Chj"
      },
      "execution_count": null,
      "outputs": []
    }
  ]
}