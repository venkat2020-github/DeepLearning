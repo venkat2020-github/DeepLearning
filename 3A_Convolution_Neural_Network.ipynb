{
  "cells": [
    {
      "cell_type": "markdown",
      "metadata": {
        "id": "view-in-github",
        "colab_type": "text"
      },
      "source": [
        "<a href=\"https://colab.research.google.com/github/venkat2020-github/DeepLearning/blob/main/3A_Convolution_Neural_Network.ipynb\" target=\"_parent\"><img src=\"https://colab.research.google.com/assets/colab-badge.svg\" alt=\"Open In Colab\"/></a>"
      ]
    },
    {
      "cell_type": "markdown",
      "metadata": {
        "id": "-oYPozu54Wd6"
      },
      "source": [
        "# Convolutional Neural Network"
      ]
    },
    {
      "cell_type": "code",
      "execution_count": null,
      "metadata": {
        "id": "xBIQzo9X4Wd9"
      },
      "outputs": [],
      "source": [
        "# Import Libraries\n",
        "# - Tensorflow\n",
        "# - Keras\n",
        "# - numpy and random\n",
        "\n",
        "import tensorflow as tf\n",
        "from tensorflow.keras import models\n",
        "from tensorflow.keras import layers\n",
        "\n",
        "import random\n",
        "import numpy as np\n",
        "\n",
        "import matplotlib.pyplot as plt\n",
        "%matplotlib inline"
      ]
    },
    {
      "cell_type": "code",
      "execution_count": null,
      "metadata": {
        "id": "czeUAPqr4WeD"
      },
      "outputs": [],
      "source": [
        "random.seed(42)         # Initialize the random number generator.\n",
        "np.random.seed(42)      # With the seed reset, the same set of numbers will appear every time. \n",
        "#tf.set_random_seed(42)  # sets the graph-level random seed"
      ]
    },
    {
      "cell_type": "markdown",
      "metadata": {
        "id": "8tL8ijsU4WeF"
      },
      "source": [
        "## Dataset - MNIST"
      ]
    },
    {
      "cell_type": "code",
      "execution_count": null,
      "metadata": {
        "colab": {
          "base_uri": "https://localhost:8080/"
        },
        "id": "sRFkZ5Y54WeG",
        "outputId": "7c2bfd5e-0b69-47b0-a66a-d6e6cf052be8"
      },
      "outputs": [
        {
          "output_type": "stream",
          "name": "stdout",
          "text": [
            "Downloading data from https://storage.googleapis.com/tensorflow/tf-keras-datasets/mnist.npz\n",
            "11493376/11490434 [==============================] - 0s 0us/step\n",
            "11501568/11490434 [==============================] - 0s 0us/step\n",
            "(60000, 28, 28, 1) (10000, 28, 28, 1)\n",
            "(60000, 10) (10000, 10)\n"
          ]
        }
      ],
      "source": [
        "# Use the MNIST dataset  of Keras.\n",
        "\n",
        "mnist = tf.keras.datasets.mnist\n",
        "\n",
        "(Xtrain, Ytrain), (Xtest,Ytest) = mnist.load_data()\n",
        "\n",
        "# Display size of dataset\n",
        "Xtrain = Xtrain.reshape((60000,28,28,1))\n",
        "Xtrain = Xtrain.astype('float32')/255\n",
        "\n",
        "Xtest = Xtest.reshape((10000,28,28,1))\n",
        "Xtest = Xtest.astype('float32')/255\n",
        "\n",
        "Ytrain = tf.keras.utils.to_categorical(Ytrain)\n",
        "Ytest = tf.keras.utils.to_categorical(Ytest) \n",
        "\n",
        "print(Xtrain.shape, Xtest.shape)\n",
        "print(Ytrain.shape, Ytest.shape)"
      ]
    },
    {
      "cell_type": "markdown",
      "metadata": {
        "id": "neOttDnc4WeI"
      },
      "source": [
        "## Create a CNN Model"
      ]
    },
    {
      "cell_type": "code",
      "execution_count": null,
      "metadata": {
        "colab": {
          "base_uri": "https://localhost:8080/"
        },
        "id": "iA9HZetM4WeK",
        "outputId": "5251d46e-69e5-48fc-f892-c450c08b4a17"
      },
      "outputs": [
        {
          "output_type": "stream",
          "name": "stdout",
          "text": [
            "Model: \"sequential\"\n",
            "_________________________________________________________________\n",
            " Layer (type)                Output Shape              Param #   \n",
            "=================================================================\n",
            " conv2d (Conv2D)             (None, 26, 26, 32)        320       \n",
            "                                                                 \n",
            " max_pooling2d (MaxPooling2D  (None, 13, 13, 32)       0         \n",
            " )                                                               \n",
            "                                                                 \n",
            " conv2d_1 (Conv2D)           (None, 11, 11, 64)        18496     \n",
            "                                                                 \n",
            " max_pooling2d_1 (MaxPooling  (None, 5, 5, 64)         0         \n",
            " 2D)                                                             \n",
            "                                                                 \n",
            " conv2d_2 (Conv2D)           (None, 3, 3, 64)          36928     \n",
            "                                                                 \n",
            " flatten (Flatten)           (None, 576)               0         \n",
            "                                                                 \n",
            " dense (Dense)               (None, 64)                36928     \n",
            "                                                                 \n",
            " dense_1 (Dense)             (None, 32)                2080      \n",
            "                                                                 \n",
            " dense_2 (Dense)             (None, 10)                330       \n",
            "                                                                 \n",
            "=================================================================\n",
            "Total params: 95,082\n",
            "Trainable params: 95,082\n",
            "Non-trainable params: 0\n",
            "_________________________________________________________________\n"
          ]
        }
      ],
      "source": [
        "# Create a Sequential model object\n",
        "cnnModel = models.Sequential()\n",
        "\n",
        "# Add layers Conv2D for CNN and specify MaxPooling\n",
        "\n",
        "# Layer 1 = input layer\n",
        "cnnModel.add(layers.Conv2D(32, (3,3), activation=\"relu\", input_shape=(28,28,1) ))\n",
        "\n",
        "cnnModel.add(layers.MaxPooling2D((2,2)))\n",
        "\n",
        "\n",
        "# Layer 2\n",
        "cnnModel.add(layers.Conv2D(64, (3,3), activation=\"relu\"))\n",
        "\n",
        "cnnModel.add(layers.MaxPooling2D((2,2)))\n",
        "\n",
        "\n",
        "# Layer 3\n",
        "cnnModel.add(layers.Conv2D(64, (3,3), activation=\"relu\" ))\n",
        "\n",
        "cnnModel.add(layers.Flatten())\n",
        "\n",
        "\n",
        "# Add Dense layers or fully connected layers\n",
        "# Layer 4\n",
        "cnnModel.add(layers.Dense(64, activation=\"relu\" ))\n",
        "\n",
        "# Layer 5\n",
        "cnnModel.add(layers.Dense(32, activation=\"relu\" ))\n",
        "\n",
        "# Layer 6\n",
        "cnnModel.add(layers.Dense(10, activation=\"softmax\" ))\n",
        "\n",
        "cnnModel.summary()\n"
      ]
    },
    {
      "cell_type": "code",
      "execution_count": null,
      "metadata": {
        "id": "NC3OMLgP4WeM"
      },
      "outputs": [],
      "source": [
        "# Configure  the model for training, by using appropriate optimizers and regularizations\n",
        "# Available optimizer: adam, rmsprop, adagrad, sgd\n",
        "# loss:  objective that the model will try to minimize. \n",
        "# Available loss: categorical_crossentropy, binary_crossentropy, mean_squared_error\n",
        "# metrics: List of metrics to be evaluated by the model during training and testing. \n",
        "\n",
        "cnnModel.compile(optimizer = \"adam\", loss = \"categorical_crossentropy\", metrics = [\"accuracy\"])\n"
      ]
    },
    {
      "cell_type": "code",
      "execution_count": null,
      "metadata": {
        "colab": {
          "base_uri": "https://localhost:8080/"
        },
        "id": "O124SNj34WeN",
        "outputId": "03195a4e-316f-4967-bfc4-91b230503240"
      },
      "outputs": [
        {
          "output_type": "stream",
          "name": "stdout",
          "text": [
            "Epoch 1/25\n",
            "844/844 [==============================] - 21s 11ms/step - loss: 0.2262 - accuracy: 0.9306 - val_loss: 0.0568 - val_accuracy: 0.9825\n",
            "Epoch 2/25\n",
            "844/844 [==============================] - 8s 9ms/step - loss: 0.0645 - accuracy: 0.9798 - val_loss: 0.0452 - val_accuracy: 0.9875\n",
            "Epoch 3/25\n",
            "844/844 [==============================] - 10s 11ms/step - loss: 0.0446 - accuracy: 0.9863 - val_loss: 0.0387 - val_accuracy: 0.9887\n",
            "Epoch 4/25\n",
            "844/844 [==============================] - 8s 10ms/step - loss: 0.0347 - accuracy: 0.9889 - val_loss: 0.0399 - val_accuracy: 0.9872\n",
            "Epoch 5/25\n",
            "844/844 [==============================] - 8s 10ms/step - loss: 0.0309 - accuracy: 0.9897 - val_loss: 0.0393 - val_accuracy: 0.9882\n",
            "Epoch 6/25\n",
            "844/844 [==============================] - 8s 9ms/step - loss: 0.0227 - accuracy: 0.9925 - val_loss: 0.0466 - val_accuracy: 0.9868\n",
            "Epoch 7/25\n",
            "844/844 [==============================] - 8s 10ms/step - loss: 0.0208 - accuracy: 0.9933 - val_loss: 0.0374 - val_accuracy: 0.9900\n",
            "Epoch 8/25\n",
            "844/844 [==============================] - 8s 9ms/step - loss: 0.0165 - accuracy: 0.9948 - val_loss: 0.0354 - val_accuracy: 0.9895\n",
            "Epoch 9/25\n",
            "844/844 [==============================] - 8s 10ms/step - loss: 0.0141 - accuracy: 0.9955 - val_loss: 0.0323 - val_accuracy: 0.9923\n",
            "Epoch 10/25\n",
            "844/844 [==============================] - 8s 10ms/step - loss: 0.0135 - accuracy: 0.9955 - val_loss: 0.0529 - val_accuracy: 0.9873\n",
            "Epoch 11/25\n",
            "844/844 [==============================] - 9s 11ms/step - loss: 0.0118 - accuracy: 0.9960 - val_loss: 0.0362 - val_accuracy: 0.9910\n",
            "Epoch 12/25\n",
            "844/844 [==============================] - 8s 10ms/step - loss: 0.0101 - accuracy: 0.9968 - val_loss: 0.0363 - val_accuracy: 0.9932\n",
            "Epoch 13/25\n",
            "844/844 [==============================] - 8s 9ms/step - loss: 0.0091 - accuracy: 0.9973 - val_loss: 0.0393 - val_accuracy: 0.9898\n",
            "Epoch 14/25\n",
            "844/844 [==============================] - 8s 10ms/step - loss: 0.0083 - accuracy: 0.9973 - val_loss: 0.0445 - val_accuracy: 0.9917\n",
            "Epoch 15/25\n",
            "844/844 [==============================] - 8s 10ms/step - loss: 0.0079 - accuracy: 0.9974 - val_loss: 0.0377 - val_accuracy: 0.9918\n",
            "Epoch 16/25\n",
            "844/844 [==============================] - 8s 9ms/step - loss: 0.0087 - accuracy: 0.9972 - val_loss: 0.0433 - val_accuracy: 0.9905\n",
            "Epoch 17/25\n",
            "844/844 [==============================] - 8s 9ms/step - loss: 0.0062 - accuracy: 0.9979 - val_loss: 0.0494 - val_accuracy: 0.9913\n",
            "Epoch 18/25\n",
            "844/844 [==============================] - 8s 10ms/step - loss: 0.0063 - accuracy: 0.9979 - val_loss: 0.0405 - val_accuracy: 0.9927\n",
            "Epoch 19/25\n",
            "844/844 [==============================] - 8s 9ms/step - loss: 0.0051 - accuracy: 0.9983 - val_loss: 0.0458 - val_accuracy: 0.9920\n",
            "Epoch 20/25\n",
            "844/844 [==============================] - 8s 10ms/step - loss: 0.0060 - accuracy: 0.9982 - val_loss: 0.0564 - val_accuracy: 0.9908\n",
            "Epoch 21/25\n",
            "844/844 [==============================] - 8s 10ms/step - loss: 0.0069 - accuracy: 0.9976 - val_loss: 0.0382 - val_accuracy: 0.9928\n",
            "Epoch 22/25\n",
            "844/844 [==============================] - 8s 9ms/step - loss: 0.0047 - accuracy: 0.9984 - val_loss: 0.0423 - val_accuracy: 0.9925\n",
            "Epoch 23/25\n",
            "844/844 [==============================] - 8s 10ms/step - loss: 0.0053 - accuracy: 0.9985 - val_loss: 0.0551 - val_accuracy: 0.9908\n",
            "Epoch 24/25\n",
            "844/844 [==============================] - 8s 10ms/step - loss: 0.0042 - accuracy: 0.9989 - val_loss: 0.0424 - val_accuracy: 0.9923\n",
            "Epoch 25/25\n",
            "844/844 [==============================] - 8s 9ms/step - loss: 0.0046 - accuracy: 0.9985 - val_loss: 0.0476 - val_accuracy: 0.9922\n"
          ]
        }
      ],
      "source": [
        "# train the model\n",
        "\n",
        "history = cnnModel.fit(Xtrain, Ytrain, epochs = 25, batch_size = 64, validation_split = 0.1)"
      ]
    },
    {
      "cell_type": "code",
      "execution_count": null,
      "metadata": {
        "id": "IfvneoOL4WeQ",
        "outputId": "7eecc9df-8646-4c1f-a1b8-9f5311f9b246",
        "colab": {
          "base_uri": "https://localhost:8080/",
          "height": 209
        }
      },
      "outputs": [
        {
          "output_type": "stream",
          "name": "stdout",
          "text": [
            "Final training loss \t 0.004601410124450922\n"
          ]
        },
        {
          "output_type": "error",
          "ename": "KeyError",
          "evalue": "ignored",
          "traceback": [
            "\u001b[0;31m---------------------------------------------------------------------------\u001b[0m",
            "\u001b[0;31mKeyError\u001b[0m                                  Traceback (most recent call last)",
            "\u001b[0;32m<ipython-input-7-3936494a1eef>\u001b[0m in \u001b[0;36m<module>\u001b[0;34m()\u001b[0m\n\u001b[1;32m      1\u001b[0m \u001b[0mprint\u001b[0m\u001b[0;34m(\u001b[0m\u001b[0;34m'Final training loss \\t'\u001b[0m\u001b[0;34m,\u001b[0m \u001b[0mhistory\u001b[0m\u001b[0;34m.\u001b[0m\u001b[0mhistory\u001b[0m\u001b[0;34m[\u001b[0m\u001b[0;34m'loss'\u001b[0m\u001b[0;34m]\u001b[0m\u001b[0;34m[\u001b[0m\u001b[0;34m-\u001b[0m\u001b[0;36m1\u001b[0m\u001b[0;34m]\u001b[0m\u001b[0;34m)\u001b[0m\u001b[0;34m\u001b[0m\u001b[0;34m\u001b[0m\u001b[0m\n\u001b[0;32m----> 2\u001b[0;31m \u001b[0mprint\u001b[0m\u001b[0;34m(\u001b[0m\u001b[0;34m'Final training accuracy '\u001b[0m\u001b[0;34m,\u001b[0m \u001b[0mhistory\u001b[0m\u001b[0;34m.\u001b[0m\u001b[0mhistory\u001b[0m\u001b[0;34m[\u001b[0m\u001b[0;34m'acc'\u001b[0m\u001b[0;34m]\u001b[0m\u001b[0;34m[\u001b[0m\u001b[0;34m-\u001b[0m\u001b[0;36m1\u001b[0m\u001b[0;34m]\u001b[0m\u001b[0;34m)\u001b[0m\u001b[0;34m\u001b[0m\u001b[0;34m\u001b[0m\u001b[0m\n\u001b[0m",
            "\u001b[0;31mKeyError\u001b[0m: 'acc'"
          ]
        }
      ],
      "source": [
        "print('Final training loss \\t', history.history['loss'][-1])\n",
        "print('Final training accuracy ', history.history['acc'][-1])"
      ]
    },
    {
      "cell_type": "markdown",
      "metadata": {
        "id": "UJvtZhWu4WeR"
      },
      "source": [
        "## Results and Outputs"
      ]
    },
    {
      "cell_type": "code",
      "execution_count": null,
      "metadata": {
        "id": "pCP1jrRJ4WeU",
        "outputId": "d0ef28fd-8c1c-45f5-aaad-7a1dcdaf83f8",
        "colab": {
          "base_uri": "https://localhost:8080/"
        }
      },
      "outputs": [
        {
          "output_type": "stream",
          "name": "stdout",
          "text": [
            "313/313 [==============================] - 1s 5ms/step - loss: 0.0471 - accuracy: 0.9912\n"
          ]
        }
      ],
      "source": [
        "# testing the model\n",
        "\n",
        "testLoss, testAccuracy = cnnModel.evaluate( Xtest, Ytest)"
      ]
    },
    {
      "cell_type": "code",
      "execution_count": null,
      "metadata": {
        "id": "insEHCtk4WeV",
        "outputId": "d1f8b4c5-bbc1-4eca-b5fd-88a5fe139f2a",
        "colab": {
          "base_uri": "https://localhost:8080/"
        }
      },
      "outputs": [
        {
          "output_type": "stream",
          "name": "stdout",
          "text": [
            "Testing loss \t 0.04710129648447037\n",
            "Testing accuracy  0.9911999702453613\n"
          ]
        }
      ],
      "source": [
        "print('Testing loss \\t', testLoss)\n",
        "print('Testing accuracy ', testAccuracy)"
      ]
    },
    {
      "cell_type": "code",
      "execution_count": null,
      "metadata": {
        "id": "8d_7zSO64WeW",
        "outputId": "e78cbff6-1263-4bb6-d641-8df334ba4686",
        "colab": {
          "base_uri": "https://localhost:8080/",
          "height": 269
        }
      },
      "outputs": [
        {
          "output_type": "display_data",
          "data": {
            "image/png": "[encoded data removed]",
            "text/plain": [
              "<Figure size 432x288 with 1 Axes>"
            ]
          },
          "metadata": {
            "needs_background": "light"
          }
        }
      ],
      "source": [
        "# shows the weights in layer 0 conv2d as gray map\n",
        "top_layer = cnnModel.layers[0]\n",
        "plt.imshow(top_layer.get_weights()[0][:, :, :, 0].squeeze(), cmap='gray')\n",
        "plt.show()"
      ]
    },
    {
      "cell_type": "code",
      "execution_count": null,
      "metadata": {
        "id": "Kl56HxOZ4WeX",
        "outputId": "89c20fcb-02ad-4698-ab6d-8e1cc8439cd5",
        "colab": {
          "base_uri": "https://localhost:8080/",
          "height": 524
        }
      },
      "outputs": [
        {
          "output_type": "display_data",
          "data": {
            "image/png": "[encoded data removed]",
            "text/plain": [
              "<Figure size 432x288 with 1 Axes>"
            ]
          },
          "metadata": {
            "needs_background": "light"
          }
        },
        {
          "output_type": "error",
          "ename": "KeyError",
          "evalue": "ignored",
          "traceback": [
            "\u001b[0;31m---------------------------------------------------------------------------\u001b[0m",
            "\u001b[0;31mKeyError\u001b[0m                                  Traceback (most recent call last)",
            "\u001b[0;32m<ipython-input-11-55518e683447>\u001b[0m in \u001b[0;36m<module>\u001b[0;34m()\u001b[0m\n\u001b[1;32m     14\u001b[0m \u001b[0;31m# plotting training and validation accuracy\u001b[0m\u001b[0;34m\u001b[0m\u001b[0;34m\u001b[0m\u001b[0;34m\u001b[0m\u001b[0m\n\u001b[1;32m     15\u001b[0m \u001b[0;34m\u001b[0m\u001b[0m\n\u001b[0;32m---> 16\u001b[0;31m \u001b[0macc\u001b[0m \u001b[0;34m=\u001b[0m \u001b[0mhistory\u001b[0m\u001b[0;34m.\u001b[0m\u001b[0mhistory\u001b[0m\u001b[0;34m[\u001b[0m\u001b[0;34m'acc'\u001b[0m\u001b[0;34m]\u001b[0m\u001b[0;34m\u001b[0m\u001b[0;34m\u001b[0m\u001b[0m\n\u001b[0m\u001b[1;32m     17\u001b[0m \u001b[0mval_acc\u001b[0m \u001b[0;34m=\u001b[0m \u001b[0mhistory\u001b[0m\u001b[0;34m.\u001b[0m\u001b[0mhistory\u001b[0m\u001b[0;34m[\u001b[0m\u001b[0;34m'val_acc'\u001b[0m\u001b[0;34m]\u001b[0m\u001b[0;34m\u001b[0m\u001b[0;34m\u001b[0m\u001b[0m\n\u001b[1;32m     18\u001b[0m \u001b[0mplt\u001b[0m\u001b[0;34m.\u001b[0m\u001b[0mplot\u001b[0m\u001b[0;34m(\u001b[0m\u001b[0mepochs\u001b[0m\u001b[0;34m,\u001b[0m \u001b[0macc\u001b[0m\u001b[0;34m,\u001b[0m \u001b[0mcolor\u001b[0m\u001b[0;34m=\u001b[0m\u001b[0;34m'red'\u001b[0m\u001b[0;34m,\u001b[0m \u001b[0mlabel\u001b[0m\u001b[0;34m=\u001b[0m\u001b[0;34m'Training acc'\u001b[0m\u001b[0;34m)\u001b[0m\u001b[0;34m\u001b[0m\u001b[0;34m\u001b[0m\u001b[0m\n",
            "\u001b[0;31mKeyError\u001b[0m: 'acc'"
          ]
        }
      ],
      "source": [
        "# plotting training and validation loss\n",
        "\n",
        "loss = history.history['loss']\n",
        "val_loss = history.history['val_loss']\n",
        "epochs = range(1, len(loss) + 1)\n",
        "plt.plot(epochs, loss, color='red', label='Training loss')\n",
        "plt.plot(epochs, val_loss, color='green', label='Validation loss')\n",
        "plt.title('Training and Validation loss')\n",
        "plt.xlabel('Epochs')\n",
        "plt.ylabel('Loss')\n",
        "plt.legend()\n",
        "plt.show()\n",
        "\n",
        "# plotting training and validation accuracy\n",
        "\n",
        "acc = history.history['acc']\n",
        "val_acc = history.history['val_acc']\n",
        "plt.plot(epochs, acc, color='red', label='Training acc')\n",
        "plt.plot(epochs, val_acc, color='green', label='Validation acc')\n",
        "plt.title('Training and Validation accuracy')\n",
        "plt.xlabel('Epochs')\n",
        "plt.ylabel('Loss')\n",
        "plt.legend()\n",
        "plt.show()"
      ]
    },
    {
      "cell_type": "markdown",
      "metadata": {
        "id": "8EPKAomY4WeY"
      },
      "source": [
        "## Confusion Matrix generation"
      ]
    },
    {
      "cell_type": "markdown",
      "metadata": {
        "id": "Swum0Wlg4WeY"
      },
      "source": [
        "### Prediction for a specific testing data generte confusion matrix"
      ]
    },
    {
      "cell_type": "code",
      "execution_count": null,
      "metadata": {
        "id": "SSAm2OCi4Wea"
      },
      "outputs": [],
      "source": [
        "Y_prediction = cnnModel.predict(Xtest)\n",
        "\n",
        "# Convert predictions classes to one hot vectors \n",
        "Y_pred_classes = np.argmax(Y_prediction, axis = 1) \n",
        "\n",
        "# Convert validation observations to one hot vectors\n",
        "Y_true = np.argmax(Ytest,axis = 1) \n",
        "\n"
      ]
    },
    {
      "cell_type": "code",
      "execution_count": null,
      "metadata": {
        "id": "utMIZnmT4Wea",
        "outputId": "f2fe2487-8d3d-4f87-820d-b15cbf1a367d",
        "colab": {
          "base_uri": "https://localhost:8080/"
        }
      },
      "outputs": [
        {
          "output_type": "stream",
          "name": "stdout",
          "text": [
            "              precision    recall  f1-score   support\n",
            "\n",
            "           0       0.99      1.00      0.99       980\n",
            "           1       0.99      1.00      0.99      1135\n",
            "           2       1.00      0.99      0.99      1032\n",
            "           3       1.00      0.99      0.99      1010\n",
            "           4       0.99      1.00      0.99       982\n",
            "           5       0.99      0.99      0.99       892\n",
            "           6       0.99      0.99      0.99       958\n",
            "           7       0.99      0.99      0.99      1028\n",
            "           8       0.99      0.99      0.99       974\n",
            "           9       0.99      0.98      0.99      1009\n",
            "\n",
            "    accuracy                           0.99     10000\n",
            "   macro avg       0.99      0.99      0.99     10000\n",
            "weighted avg       0.99      0.99      0.99     10000\n",
            "\n"
          ]
        }
      ],
      "source": [
        "# Classification Report\n",
        "\n",
        "from sklearn.metrics import classification_report \n",
        "\n",
        "print(classification_report(Y_true, Y_pred_classes))"
      ]
    },
    {
      "cell_type": "code",
      "execution_count": null,
      "metadata": {
        "id": "nVzQkLeO4Web",
        "outputId": "baf4b95e-f61c-4785-8915-95187b999ab2",
        "colab": {
          "base_uri": "https://localhost:8080/",
          "height": 483
        }
      },
      "outputs": [
        {
          "output_type": "display_data",
          "data": {
            "image/png": "[encoded data removed]",
            "text/plain": [
              "<Figure size 720x576 with 2 Axes>"
            ]
          },
          "metadata": {
            "needs_background": "light"
          }
        }
      ],
      "source": [
        "# confusion matrix\n",
        "from sklearn.metrics import confusion_matrix\n",
        "import seaborn as sns\n",
        "\n",
        "# compute the confusion matrix\n",
        "confusion_mtx = confusion_matrix(Y_true, Y_pred_classes) \n",
        "\n",
        "plt.figure(figsize=(10,8))\n",
        "sns.heatmap(confusion_mtx, annot=True, fmt=\"d\");"
      ]
    },
    {
      "cell_type": "markdown",
      "metadata": {
        "id": "nFONCuD94Web"
      },
      "source": [
        "Modify the code to get a better testing accuracy.\n",
        "- Change the number of hidden units\n",
        "- Increase the number of hidden layers\n",
        "- Use a different optimizer\n",
        "- Train for more epochs for better graphs\n",
        "\n",
        "- Try using CIFAR dataset"
      ]
    }
  ],
  "metadata": {
    "kernelspec": {
      "display_name": "Python 3",
      "language": "python",
      "name": "python3"
    },
    "language_info": {
      "codemirror_mode": {
        "name": "ipython",
        "version": 3
      },
      "file_extension": ".py",
      "mimetype": "text/x-python",
      "name": "python",
      "nbconvert_exporter": "python",
      "pygments_lexer": "ipython3",
      "version": "3.7.3"
    },
    "colab": {
      "name": "3A Convolution Neural Network.ipynb",
      "provenance": [],
      "include_colab_link": true
    },
    "accelerator": "GPU"
  },
  "nbformat": 4,
  "nbformat_minor": 0
}